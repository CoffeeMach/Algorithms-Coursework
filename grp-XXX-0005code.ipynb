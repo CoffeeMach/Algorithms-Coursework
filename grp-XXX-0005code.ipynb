{
 "cells": [
  {
   "cell_type": "markdown",
   "metadata": {},
   "source": [
    "# COMP0005 - GROUP COURSEWORK 2023-24\n",
    "# Gesture Recognition via Convex Hull "
   ]
  },
  {
   "cell_type": "markdown",
   "metadata": {},
   "source": [
    "Use the cell below for all python code needed to realise the **Jarvis march algorithm** (including auxiliary data structures and functions needed by this algorithm - if any). The `jarvismarch()` function itself should take as input parameter a list of 2D points (`inputSet`), and return the subset of such points (`outputSet`) that lie on the convex hull."
   ]
  },
  {
   "cell_type": "code",
   "execution_count": 1,
   "metadata": {},
   "outputs": [],
   "source": [
    "import math\n",
    "\n",
    "def jarvismarch(inputSet):\n",
    "    '''\n",
    "    Returns the list of points that lie on the convex hull (jarvis march algorithm)\n",
    "            Parameters:\n",
    "                    inputSet (list): a list of 2D points\n",
    "\n",
    "            Returns:\n",
    "                    outputSet (list): a list of 2D points\n",
    "    '''\n",
    "\n",
    "    #ADD YOUR CODE HERE\n",
    "\n",
    "    return outputSet"
   ]
  },
  {
   "cell_type": "markdown",
   "metadata": {},
   "source": [
    "Use the cell below for all python code needed to realise the **Graham scan** algorithm (including auxiliary data structures and functions needed by this algorithm - if any). The `grahamscan()` function itself should take as input parameter a list of 2D points (`inputSet`), and return the subset of such points that lie on the convex hull (`outputSet`)."
   ]
  },
  {
   "cell_type": "code",
   "execution_count": 2,
   "metadata": {},
   "outputs": [],
   "source": [
    "def grahamscan(inputSet):\n",
    "    '''\n",
    "    Returns the list of points that lie on the convex hull (graham scan algorithm)\n",
    "            Parameters:\n",
    "                    inputSet (list): a list of 2D points\n",
    "\n",
    "            Returns:\n",
    "                    outputSet (list): a list of 2D points\n",
    "    '''\n",
    "\n",
    "    #ADD YOUR CODE HERE\n",
    "\n",
    "    return outputSet"
   ]
  },
  {
   "cell_type": "markdown",
   "metadata": {},
   "source": [
    "Use the cell below for all python code needed to realise the **Chen's** algorithm (including auxiliary data structures and functions needed by this algorithm - if any). The `chen()` function itself should take as input parameter a list of 2D points (`inputSet`), and return the subset of such points that lie on the convex hull (`outputSet`)."
   ]
  },
  {
   "cell_type": "code",
   "execution_count": 3,
   "metadata": {},
   "outputs": [],
   "source": [
    "# Importing necessary libraries\n",
    "import math\n",
    "import random\n",
    "\n",
    "# Function definition for chen algorithm\n",
    "def chen(inputSet):\n",
    "    '''\n",
    "    Returns the list of points that lie on the convex hull (Chen's algorithm)\n",
    "            Parameters:\n",
    "                    inputSet (list): a list of 2D points\n",
    "\n",
    "            Returns:\n",
    "                    outputSet (list): a list of 2D points\n",
    "    '''\n",
    "\n",
    "    def orientation(p, q, r):\n",
    "        val = (q[1] - p[1]) * (r[0] - q[0]) - (q[0] - p[0]) * (r[1] - q[1])\n",
    "        if val == 0:\n",
    "            return 0\n",
    "        return 1 if val > 0 else -1\n",
    "\n",
    "    def chen_inner(inputSet):\n",
    "        if len(inputSet) < 3:\n",
    "            return inputSet\n",
    "        start_point = min(inputSet, key=lambda p: (p[0], p[1]))\n",
    "        sorted_points = sorted(inputSet, key=lambda p: math.atan2(p[1] - start_point[1], p[0] - start_point[0]))\n",
    "        stack = []\n",
    "\n",
    "        for point in sorted_points:\n",
    "            while len(stack) >= 2 and orientation(stack[-2], stack[-1], point) <= 0:\n",
    "                stack.pop()\n",
    "            stack.append(point)\n",
    "\n",
    "        return stack\n",
    "\n",
    "    outputSet = chen_inner(inputSet)\n",
    "    return outputSet\n",
    "\n",
    "#THIS PART SHOULD BE DELETED FROM HERE#\n",
    "\n",
    "# Function to generate random points\n",
    "def generate_random_points(n):\n",
    "    points = set()\n",
    "    while len(points) < n:\n",
    "        x = random.randint(0, 32767)\n",
    "        y = random.randint(0, 32767)\n",
    "        points.add((x, y))\n",
    "    return list(points)\n",
    "\n",
    "def test_chen_with_random_points():\n",
    "    # Test Case 1\n",
    "    input_set_1 = generate_random_points(10)\n",
    "    print(\"Input Set 1:\", input_set_1)\n",
    "    print(\"Convex Hull 1:\", chen(input_set_1))\n",
    "    \n",
    "    # Test Case 2\n",
    "    input_set_2 = generate_random_points(20)\n",
    "    print(\"Input Set 2:\", input_set_2)\n",
    "    print(\"Convex Hull 2:\", chen(input_set_2))\n",
    "\n",
    "    # Test Case 3\n",
    "    input_set_3 = generate_random_points(30)\n",
    "    print(\"Input Set 3:\", input_set_3)\n",
    "    print(\"Convex Hull 3:\", chen(input_set_3))\n",
    "\n",
    "# Test the chen function with random points and edge cases\n",
    "def test_chen_with_random_points_and_edge_cases():\n",
    "    # Test Case 1: Fewer than three points\n",
    "    input_set_1 = [(0, 0), (1, 1)]\n",
    "    print(\"Input Set 1:\", input_set_1)\n",
    "    print(\"Convex Hull 1:\", chen(input_set_1))\n",
    "\n",
    "    # Test Case 2: Collinear points\n",
    "    input_set_2 = [(0, 0), (1, 1), (2, 2), (3, 3)]\n",
    "    print(\"Input Set 2:\", input_set_2)\n",
    "    print(\"Convex Hull 2:\", chen(input_set_2))\n",
    "\n",
    "    # Test Case 3: All points on the convex hull\n",
    "    input_set_3 = [(0, 0), (1, 0), (2, 0), (3, 0)]\n",
    "    print(\"Input Set 3:\", input_set_3)\n",
    "    print(\"Convex Hull 3:\", chen(input_set_3))\n",
    "\n",
    "    # Test Case 4: Random points\n",
    "    input_set_4 = generate_random_points(10)\n",
    "    print(\"Input Set 4:\", input_set_4)\n",
    "    print(\"Convex Hull 4:\", chen(input_set_4))\n",
    "\n",
    "# Run the test\n",
    "test_chen_with_random_points()\n",
    "test_chen_with_random_points_and_edge_cases()"
   ]
  },
  {
   "cell_type": "markdown",
   "metadata": {},
   "source": [
    "Use the cell below to implement the **synthetic data generator** needed by your experimental framework (including any auxiliary data structures and functions you might need - be mindful of code readability and reusability)."
   ]
  },
  {
   "cell_type": "code",
   "execution_count": 4,
   "metadata": {},
   "outputs": [],
   "source": [
    "import random\n",
    "\n",
    "class TestDataGenerator():\n",
    "    \"\"\"\n",
    "    A class to represent a synthetic data generator.\n",
    "\n",
    "    ...\n",
    "\n",
    "    Attributes\n",
    "    ----------\n",
    "    \n",
    "    [to be defined as part of the coursework]\n",
    "\n",
    "    Methods\n",
    "    -------\n",
    "    \n",
    "    [to be defined as part of the coursework]\n",
    "\n",
    "    \"\"\"\n",
    "        \n",
    "    #ADD YOUR CODE HERE\n",
    "    \n",
    "    def __init__():\n",
    "        pass\n"
   ]
  },
  {
   "cell_type": "markdown",
   "metadata": {},
   "source": [
    "Use the cell below to implement the requested **experimental framework** API."
   ]
  },
  {
   "cell_type": "code",
   "execution_count": 5,
   "metadata": {},
   "outputs": [],
   "source": [
    "import timeit\n",
    "import matplotlib\n",
    "\n",
    "class ExperimentalFramework():\n",
    "    \"\"\"\n",
    "    A class to represent an experimental framework.\n",
    "\n",
    "    ...\n",
    "\n",
    "    Attributes\n",
    "    ----------\n",
    "    \n",
    "    [to be defined as part of the coursework]\n",
    "\n",
    "    Methods\n",
    "    -------\n",
    "    \n",
    "    [to be defined as part of the coursework]\n",
    "\n",
    "    \"\"\"\n",
    "        \n",
    "    #ADD YOUR CODE HERE\n",
    "    \n",
    "    def __init__():\n",
    "        pass"
   ]
  },
  {
   "cell_type": "markdown",
   "metadata": {},
   "source": [
    "Use the cell below to illustrate the python code you used to **fully evaluate** the three convex hull algortihms under considerations. The code below should illustrate, for example, how you made used of the **TestDataGenerator** class to generate test data of various size and properties; how you instatiated the **ExperimentalFramework** class to  evaluate each algorithm using such data, collect information about their execution time, plots results, etc. Any results you illustrate in the companion PDF report should have been generated using the code below."
   ]
  },
  {
   "cell_type": "code",
   "execution_count": 6,
   "metadata": {},
   "outputs": [],
   "source": [
    "# ADD YOUR TEST CODE HERE \n",
    "\n",
    "\n",
    "\n"
   ]
  }
 ],
 "metadata": {
  "kernelspec": {
   "display_name": "Python 3",
   "language": "python",
   "name": "python3"
  },
  "language_info": {
   "codemirror_mode": {
    "name": "ipython",
    "version": 3
   },
   "file_extension": ".py",
   "mimetype": "text/x-python",
   "name": "python",
   "nbconvert_exporter": "python",
   "pygments_lexer": "ipython3",
   "version": "3.12.2"
  }
 },
 "nbformat": 4,
 "nbformat_minor": 4
}
